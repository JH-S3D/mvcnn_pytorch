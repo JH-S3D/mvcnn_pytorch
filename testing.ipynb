{
 "cells": [
  {
   "cell_type": "code",
   "execution_count": 1,
   "metadata": {},
   "outputs": [
    {
     "name": "stderr",
     "output_type": "stream",
     "text": [
      "c:\\Users\\Denjanzi\\AppData\\Local\\Programs\\Python\\Python310\\lib\\site-packages\\torchvision\\models\\_utils.py:208: UserWarning: The parameter 'pretrained' is deprecated since 0.13 and may be removed in the future, please use 'weights' instead.\n",
      "  warnings.warn(\n",
      "c:\\Users\\Denjanzi\\AppData\\Local\\Programs\\Python\\Python310\\lib\\site-packages\\torchvision\\models\\_utils.py:223: UserWarning: Arguments other than a weight enum or `None` for 'weights' are deprecated since 0.13 and may be removed in the future. The current behavior is equivalent to passing `weights=VGG11_Weights.IMAGENET1K_V1`. You can also use `weights=VGG11_Weights.DEFAULT` to get the most up-to-date weights.\n",
      "  warnings.warn(msg)\n"
     ]
    },
    {
     "name": "stdout",
     "output_type": "stream",
     "text": [
      "num_val_files: 29616\n"
     ]
    }
   ],
   "source": [
    "import matplotlib\n",
    "import torch\n",
    "import torchvision.models as models\n",
    "from torch import nn\n",
    "from torch.utils.data import DataLoader\n",
    "from torchvision import datasets\n",
    "from torchvision.transforms import ToTensor\n",
    "from torchvision.transforms import transforms\n",
    "from torch.autograd import Variable\n",
    "import numpy as np\n",
    "import torch.optim as optim\n",
    "\n",
    "import matplotlib.pyplot as plt\n",
    "\n",
    "from tools.Tester import ModelNetTester\n",
    "from tools.ImgDataset import MultiviewImgDataset, SingleImgDataset\n",
    "from models.MVCNN import MVCNN, SVCNN\n",
    "\n",
    "device = (\n",
    "    \"cuda\"\n",
    "    if torch.cuda.is_available()\n",
    "    else \"mps\"\n",
    "    if torch.backends.mps.is_available()\n",
    "    else \"cpu\"\n",
    ")\n",
    "\n",
    "model1 = SVCNN(\"cnet1\").to(device)\n",
    "model1.load_state_dict(torch.load('E:\\\\Work\\\\MachineLearning\\\\results\\\\mvcnn_stage_1\\\\mvcnn\\\\model-00004.pth'))\n",
    "\n",
    "model2 = MVCNN(\"cnet2\", model1).to(device)\n",
    "model2.load_state_dict(torch.load('E:\\\\Work\\\\MachineLearning\\\\results\\\\mvcnn_stage_2\\\\mvcnn\\\\model-00002.pth'))\n",
    "\n",
    "val_path = \"modelnet40_images_new_12x/*/test\"\n",
    "val_dataset = SingleImgDataset(val_path, scale_aug=False, rot_aug=False, test_mode=True)\n",
    "val_loader = torch.utils.data.DataLoader(val_dataset, batch_size=64, shuffle=False, num_workers=0)\n",
    "print('num_val_files: '+str(len(val_dataset.filepaths)))"
   ]
  },
  {
   "cell_type": "code",
   "execution_count": 2,
   "metadata": {},
   "outputs": [
    {
     "name": "stdout",
     "output_type": "stream",
     "text": [
      "Predicted Class Names: ['dresser']\n",
      "Test: 0, Correct Points: 1/1\n",
      "Predicted Class Names: ['monitor']\n",
      "Test: 1, Correct Points: 1/1\n",
      "Predicted Class Names: ['stool']\n",
      "Test: 2, Correct Points: 1/1\n",
      "Predicted Class Names: ['bed']\n",
      "Test: 3, Correct Points: 1/1\n",
      "Predicted Class Names: ['tv_stand']\n",
      "Test: 4, Correct Points: 0/1\n",
      "Predicted Class Names: ['plant']\n",
      "Test: 5, Correct Points: 1/1\n",
      "Predicted Class Names: ['table']\n",
      "Test: 6, Correct Points: 1/1\n",
      "Predicted Class Names: ['bottle']\n",
      "Test: 7, Correct Points: 1/1\n",
      "Predicted Class Names: ['plant']\n",
      "Test: 8, Correct Points: 1/1\n",
      "Predicted Class Names: ['table']\n",
      "Test: 9, Correct Points: 0/1\n",
      "Predicted Class Names: ['plant']\n",
      "Test: 10, Correct Points: 1/1\n",
      "Predicted Class Names: ['monitor']\n",
      "Test: 11, Correct Points: 1/1\n",
      "Predicted Class Names: ['range_hood']\n",
      "Test: 12, Correct Points: 1/1\n",
      "Predicted Class Names: ['dresser']\n",
      "Test: 13, Correct Points: 1/1\n",
      "Predicted Class Names: ['range_hood']\n",
      "Test: 14, Correct Points: 1/1\n",
      "Predicted Class Names: ['cup']\n",
      "Test: 15, Correct Points: 1/1\n",
      "Predicted Class Names: ['mantel']\n",
      "Test: 16, Correct Points: 1/1\n",
      "Predicted Class Names: ['piano']\n",
      "Test: 17, Correct Points: 1/1\n",
      "Predicted Class Names: ['glass_box']\n",
      "Test: 18, Correct Points: 1/1\n",
      "Predicted Class Names: ['bottle']\n",
      "Test: 19, Correct Points: 1/1\n",
      "Predicted Class Names: ['desk']\n",
      "Test: 20, Correct Points: 1/1\n",
      "Predicted Class Names: ['monitor']\n",
      "Test: 21, Correct Points: 1/1\n",
      "Predicted Class Names: ['person']\n",
      "Test: 22, Correct Points: 1/1\n",
      "Predicted Class Names: ['car']\n",
      "Test: 23, Correct Points: 1/1\n",
      "Predicted Class Names: ['glass_box']\n",
      "Test: 24, Correct Points: 1/1\n",
      "Predicted Class Names: ['range_hood']\n",
      "Test: 25, Correct Points: 1/1\n",
      "Predicted Class Names: ['door']\n",
      "Test: 26, Correct Points: 1/1\n",
      "Predicted Class Names: ['bed']\n",
      "Test: 27, Correct Points: 1/1\n",
      "Predicted Class Names: ['tv_stand']\n",
      "Test: 28, Correct Points: 1/1\n",
      "Predicted Class Names: ['monitor']\n",
      "Test: 29, Correct Points: 1/1\n",
      "Predicted Class Names: ['radio']\n",
      "Test: 30, Correct Points: 1/1\n",
      "Predicted Class Names: ['tv_stand']\n",
      "Test: 31, Correct Points: 1/1\n",
      "Predicted Class Names: ['car']\n",
      "Test: 32, Correct Points: 1/1\n"
     ]
    }
   ],
   "source": [
    "model1.eval()\n",
    "model2.eval()\n",
    "\n",
    "model = model2\n",
    "modelName = 'mvcnn'\n",
    "\n",
    "\n",
    "\n",
    "val_dataset = MultiviewImgDataset(val_path, scale_aug=False, rot_aug=False, num_views=12)\n",
    "val_loader = torch.utils.data.DataLoader(val_dataset, batch_size=1, shuffle=False, num_workers=0)\n",
    "\n",
    "trainer = ModelNetTester(model, val_loader, nn.CrossEntropyLoss(), modelName,\n",
    "                          num_views=1)\n",
    "trainer.test_embedding(0, 1)\n",
    "#trainer.test_accuracy()"
   ]
  }
 ],
 "metadata": {
  "kernelspec": {
   "display_name": "Python 3",
   "language": "python",
   "name": "python3"
  },
  "language_info": {
   "codemirror_mode": {
    "name": "ipython",
    "version": 3
   },
   "file_extension": ".py",
   "mimetype": "text/x-python",
   "name": "python",
   "nbconvert_exporter": "python",
   "pygments_lexer": "ipython3",
   "version": "3.10.9"
  }
 },
 "nbformat": 4,
 "nbformat_minor": 2
}
